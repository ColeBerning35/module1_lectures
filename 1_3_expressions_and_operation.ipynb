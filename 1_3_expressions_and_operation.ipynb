{
  "cells": [
    {
      "cell_type": "markdown",
      "metadata": {
        "id": "view-in-github",
        "colab_type": "text"
      },
      "source": [
        "<a href=\"https://colab.research.google.com/github/ColeBerning35/module1_lectures/blob/main/1_3_expressions_and_operation.ipynb\" target=\"_parent\"><img src=\"https://colab.research.google.com/assets/colab-badge.svg\" alt=\"Open In Colab\"/></a>"
      ]
    },
    {
      "cell_type": "markdown",
      "metadata": {
        "nbpresent": {
          "id": "72b0ede6-af2b-41e9-81af-16c345e658d3"
        },
        "id": "H8dxpLTqTc0V"
      },
      "source": [
        "# Expressions and Functions\n",
        "\n",
        "## Objectives\n",
        "\n",
        "1. Introduce basic Python expressions for transforming data\n",
        "    1. Arithmetic\n",
        "    2. Boolean\n",
        "2. Use the conditional expression for situational expressions"
      ]
    },
    {
      "cell_type": "markdown",
      "metadata": {
        "nbpresent": {
          "id": "d6ce38da-dd5e-49ae-96d9-a13b7c588c7f"
        },
        "id": "p_ipxfl3Tc0W"
      },
      "source": [
        "## Expressions and Statements\n",
        "\n",
        "* Two types of Python code\n",
        "* **statements** \"Do this\"\n",
        "    * Does not return/evaluate to a value\n",
        "    * Often contain expressions\n",
        "* **expressions** \"Compute this value\"\n",
        "    * Allows returns data\n",
        "* I prefer expressions"
      ]
    },
    {
      "cell_type": "code",
      "execution_count": 1,
      "metadata": {
        "nbpresent": {
          "id": "3394c082-f660-4228-8b52-a46f2e9c02de"
        },
        "id": "WkmASBx_Tc0X",
        "outputId": "61ff33f3-a56c-4033-e05d-48256e28d51f",
        "colab": {
          "base_uri": "https://localhost:8080/"
        }
      },
      "outputs": [
        {
          "output_type": "execute_result",
          "data": {
            "text/plain": [
              "6"
            ]
          },
          "metadata": {},
          "execution_count": 1
        }
      ],
      "source": [
        "sum([1,2,3]) # expression (returns 6)"
      ]
    },
    {
      "cell_type": "code",
      "execution_count": 2,
      "metadata": {
        "nbpresent": {
          "id": "348801b9-66cf-4248-81c6-32b52ca127e8"
        },
        "id": "D214rj6zTc0Y"
      },
      "outputs": [],
      "source": [
        "x = sum([1,2,3]) # assignment statement (no value)"
      ]
    },
    {
      "cell_type": "code",
      "execution_count": 3,
      "metadata": {
        "nbpresent": {
          "id": "5b62bd9c-ca01-40c1-9913-e2c73f9188f6"
        },
        "id": "aTTjXDZCTc0Y",
        "outputId": "a8ee199a-7a3b-4160-d3ea-9c250951ac5b",
        "colab": {
          "base_uri": "https://localhost:8080/"
        }
      },
      "outputs": [
        {
          "output_type": "execute_result",
          "data": {
            "text/plain": [
              "6"
            ]
          },
          "metadata": {},
          "execution_count": 3
        }
      ],
      "source": [
        "x # Expression (returns value assigned to x)"
      ]
    },
    {
      "cell_type": "markdown",
      "metadata": {
        "nbpresent": {
          "id": "277549e7-ddfe-439c-b7dc-4e257ff97426"
        },
        "id": "ntoIBdt3Tc0Y"
      },
      "source": [
        "## Arithmetic operations"
      ]
    },
    {
      "cell_type": "code",
      "execution_count": 4,
      "metadata": {
        "nbpresent": {
          "id": "de77acd8-a6ab-4026-9378-05a77c73ed46"
        },
        "id": "1LBnzT4qTc0Y",
        "outputId": "6582abc3-14ee-4d7e-b3bc-39dcb9fb7293",
        "colab": {
          "base_uri": "https://localhost:8080/"
        }
      },
      "outputs": [
        {
          "output_type": "execute_result",
          "data": {
            "text/plain": [
              "5.5"
            ]
          },
          "metadata": {},
          "execution_count": 4
        }
      ],
      "source": [
        "2 + 3.5"
      ]
    },
    {
      "cell_type": "code",
      "execution_count": 5,
      "metadata": {
        "nbpresent": {
          "id": "9b572828-abc5-4f12-9f11-d444f1488019"
        },
        "id": "LjE1vOB_Tc0Z",
        "outputId": "1ada78ac-afdf-44db-a0f1-0efeac5903f7",
        "colab": {
          "base_uri": "https://localhost:8080/"
        }
      },
      "outputs": [
        {
          "output_type": "execute_result",
          "data": {
            "text/plain": [
              "-1.5"
            ]
          },
          "metadata": {},
          "execution_count": 5
        }
      ],
      "source": [
        "2 - 3.5 "
      ]
    },
    {
      "cell_type": "code",
      "execution_count": 6,
      "metadata": {
        "nbpresent": {
          "id": "f14f2894-1b57-4dec-8eaf-72364fb0ec22"
        },
        "id": "ef3OtS8MTc0Z",
        "outputId": "ddf37af8-f685-409c-da2a-2a5aca8e51d0",
        "colab": {
          "base_uri": "https://localhost:8080/"
        }
      },
      "outputs": [
        {
          "output_type": "execute_result",
          "data": {
            "text/plain": [
              "7.0"
            ]
          },
          "metadata": {},
          "execution_count": 6
        }
      ],
      "source": [
        "2*3.5"
      ]
    },
    {
      "cell_type": "code",
      "execution_count": 7,
      "metadata": {
        "nbpresent": {
          "id": "0283e446-51ff-49c6-95c1-7df0331373e8"
        },
        "id": "UTOTxMlxTc0Z",
        "outputId": "7c3e0421-868a-45d9-a8d6-b82fa1d49df0",
        "colab": {
          "base_uri": "https://localhost:8080/"
        }
      },
      "outputs": [
        {
          "output_type": "execute_result",
          "data": {
            "text/plain": [
              "0.6666666666666666"
            ]
          },
          "metadata": {},
          "execution_count": 7
        }
      ],
      "source": [
        "2/3 # True division"
      ]
    },
    {
      "cell_type": "code",
      "execution_count": 8,
      "metadata": {
        "nbpresent": {
          "id": "1cbfb777-d4fa-4364-8b4d-7316398849d2"
        },
        "id": "OC97YeBSTc0Z",
        "outputId": "4b294112-ddb7-4540-c544-b451c99e4d66",
        "colab": {
          "base_uri": "https://localhost:8080/"
        }
      },
      "outputs": [
        {
          "output_type": "execute_result",
          "data": {
            "text/plain": [
              "3"
            ]
          },
          "metadata": {},
          "execution_count": 8
        }
      ],
      "source": [
        "10//3 # Integeer division"
      ]
    },
    {
      "cell_type": "code",
      "execution_count": 9,
      "metadata": {
        "nbpresent": {
          "id": "5eb71879-541d-4d2f-8d0b-03b1936784be"
        },
        "id": "HtfIBxjETc0Z",
        "outputId": "1dbf3fef-cfa9-4f1e-9bdc-fcb5bab4ecf5",
        "colab": {
          "base_uri": "https://localhost:8080/"
        }
      },
      "outputs": [
        {
          "output_type": "execute_result",
          "data": {
            "text/plain": [
              "1"
            ]
          },
          "metadata": {},
          "execution_count": 9
        }
      ],
      "source": [
        "10 % 3 # Mod/remainder"
      ]
    },
    {
      "cell_type": "code",
      "execution_count": 10,
      "metadata": {
        "nbpresent": {
          "id": "d2f5f5a1-1f01-4036-8bdb-c9dd4f3a6999"
        },
        "id": "ykmVeybETc0a",
        "outputId": "fbfa7ff9-b895-488b-a5e9-50ccb76428d5",
        "colab": {
          "base_uri": "https://localhost:8080/"
        }
      },
      "outputs": [
        {
          "output_type": "execute_result",
          "data": {
            "text/plain": [
              "8"
            ]
          },
          "metadata": {},
          "execution_count": 10
        }
      ],
      "source": [
        "2 ** 3 # Powers!"
      ]
    },
    {
      "cell_type": "code",
      "execution_count": 11,
      "metadata": {
        "nbpresent": {
          "id": "f79150cf-6794-48bb-b703-eb963b40cc06"
        },
        "id": "C9qFNONOTc0a",
        "outputId": "7ad50832-730f-47b9-cd6a-f0249a40155a",
        "colab": {
          "base_uri": "https://localhost:8080/"
        }
      },
      "outputs": [
        {
          "output_type": "execute_result",
          "data": {
            "text/plain": [
              "1"
            ]
          },
          "metadata": {},
          "execution_count": 11
        }
      ],
      "source": [
        "2 ^ 3 # BEWARE: bitwise exclusive or"
      ]
    },
    {
      "cell_type": "markdown",
      "metadata": {
        "id": "THBIe9U5Tc0a"
      },
      "source": [
        "<font color=\"red\"><h2>Exercise 1.3.1 </h2></font>\n",
        "\n",
        "The hour hand is pointing at 8, what will it point to in 57 hours?"
      ]
    },
    {
      "cell_type": "code",
      "execution_count": 15,
      "metadata": {
        "id": "vIA8Hv38Tc0a",
        "outputId": "261c2c31-ad54-4ea9-fb34-212a87e0dfe1",
        "colab": {
          "base_uri": "https://localhost:8080/"
        }
      },
      "outputs": [
        {
          "output_type": "execute_result",
          "data": {
            "text/plain": [
              "5"
            ]
          },
          "metadata": {},
          "execution_count": 15
        }
      ],
      "source": [
        "# In 57 hours the hour hand will point to the 5\n",
        "((57 % 24) + 8) % 12"
      ]
    },
    {
      "cell_type": "markdown",
      "metadata": {
        "nbpresent": {
          "id": "a9702cc1-1da0-4d6b-8198-835ac55fd9eb"
        },
        "id": "WdtTn5g-Tc0b"
      },
      "source": [
        "### <font color=\"red\"> Exercise 1.3.2</font>\n",
        "Investigate which operations can be applied to two strings, say `\"a\"` and `\"b\"`.\n"
      ]
    },
    {
      "cell_type": "code",
      "execution_count": 16,
      "metadata": {
        "collapsed": true,
        "nbpresent": {
          "id": "78a2f194-f4ff-466a-8921-7012b6d551b0"
        },
        "id": "YDfR5fqUTc0b",
        "outputId": "b2da6785-ab53-4c72-d65b-d440ccfbb683",
        "colab": {
          "base_uri": "https://localhost:8080/",
          "height": 35
        }
      },
      "outputs": [
        {
          "output_type": "execute_result",
          "data": {
            "text/plain": [
              "'ab'"
            ],
            "application/vnd.google.colaboratory.intrinsic+json": {
              "type": "string"
            }
          },
          "metadata": {},
          "execution_count": 16
        }
      ],
      "source": [
        "string1 = \"a\"\n",
        "string2 = \"b\"\n",
        "string1 + string2"
      ]
    },
    {
      "cell_type": "code",
      "source": [
        "string1 - string2"
      ],
      "metadata": {
        "id": "ZTfUrkJeVNF5",
        "outputId": "2808d302-36e5-484b-d1f0-c1ca2f1ccee7",
        "colab": {
          "base_uri": "https://localhost:8080/",
          "height": 166
        }
      },
      "execution_count": 17,
      "outputs": [
        {
          "output_type": "error",
          "ename": "TypeError",
          "evalue": "ignored",
          "traceback": [
            "\u001b[0;31m---------------------------------------------------------------------------\u001b[0m",
            "\u001b[0;31mTypeError\u001b[0m                                 Traceback (most recent call last)",
            "\u001b[0;32m<ipython-input-17-90128c74a30e>\u001b[0m in \u001b[0;36m<module>\u001b[0;34m\u001b[0m\n\u001b[0;32m----> 1\u001b[0;31m \u001b[0mstring1\u001b[0m \u001b[0;34m-\u001b[0m \u001b[0mstring2\u001b[0m\u001b[0;34m\u001b[0m\u001b[0;34m\u001b[0m\u001b[0m\n\u001b[0m",
            "\u001b[0;31mTypeError\u001b[0m: unsupported operand type(s) for -: 'str' and 'str'"
          ]
        }
      ]
    },
    {
      "cell_type": "code",
      "source": [
        "string1 * string2"
      ],
      "metadata": {
        "id": "mi-gWzUuVSNP",
        "outputId": "ae469a3f-fcf2-4dd3-aad4-9ddf251a0267",
        "colab": {
          "base_uri": "https://localhost:8080/",
          "height": 166
        }
      },
      "execution_count": 18,
      "outputs": [
        {
          "output_type": "error",
          "ename": "TypeError",
          "evalue": "ignored",
          "traceback": [
            "\u001b[0;31m---------------------------------------------------------------------------\u001b[0m",
            "\u001b[0;31mTypeError\u001b[0m                                 Traceback (most recent call last)",
            "\u001b[0;32m<ipython-input-18-c3241b658d33>\u001b[0m in \u001b[0;36m<module>\u001b[0;34m\u001b[0m\n\u001b[0;32m----> 1\u001b[0;31m \u001b[0mstring1\u001b[0m \u001b[0;34m*\u001b[0m \u001b[0mstring2\u001b[0m\u001b[0;34m\u001b[0m\u001b[0;34m\u001b[0m\u001b[0m\n\u001b[0m",
            "\u001b[0;31mTypeError\u001b[0m: can't multiply sequence by non-int of type 'str'"
          ]
        }
      ]
    },
    {
      "cell_type": "code",
      "source": [
        "string1 / string2"
      ],
      "metadata": {
        "id": "XYREe4G1VYpQ",
        "outputId": "497cf239-9a59-4e01-da96-f5865dc548f5",
        "colab": {
          "base_uri": "https://localhost:8080/",
          "height": 166
        }
      },
      "execution_count": 19,
      "outputs": [
        {
          "output_type": "error",
          "ename": "TypeError",
          "evalue": "ignored",
          "traceback": [
            "\u001b[0;31m---------------------------------------------------------------------------\u001b[0m",
            "\u001b[0;31mTypeError\u001b[0m                                 Traceback (most recent call last)",
            "\u001b[0;32m<ipython-input-19-41c08d3094f5>\u001b[0m in \u001b[0;36m<module>\u001b[0;34m\u001b[0m\n\u001b[0;32m----> 1\u001b[0;31m \u001b[0mstring1\u001b[0m \u001b[0;34m/\u001b[0m \u001b[0mstring2\u001b[0m\u001b[0;34m\u001b[0m\u001b[0;34m\u001b[0m\u001b[0m\n\u001b[0m",
            "\u001b[0;31mTypeError\u001b[0m: unsupported operand type(s) for /: 'str' and 'str'"
          ]
        }
      ]
    },
    {
      "cell_type": "markdown",
      "metadata": {
        "nbpresent": {
          "id": "2812ca09-3cd1-43c1-aefd-05fbea612c57"
        },
        "id": "GAIqunYmTc0b"
      },
      "source": [
        "### <font color=\"red\"> Exercise 1.3.3 </font>\n",
        "\n",
        "Investigate various operations on `2` and `\"a\"`"
      ]
    },
    {
      "cell_type": "code",
      "execution_count": 22,
      "metadata": {
        "nbpresent": {
          "id": "c5667754-7de7-401f-989b-88c209c6ea82"
        },
        "id": "03i1Ti8qTc0b",
        "outputId": "494b6919-741d-4849-d155-6e8bd1fea9ac",
        "colab": {
          "base_uri": "https://localhost:8080/",
          "height": 35
        }
      },
      "outputs": [
        {
          "output_type": "execute_result",
          "data": {
            "text/plain": [
              "'aa'"
            ],
            "application/vnd.google.colaboratory.intrinsic+json": {
              "type": "string"
            }
          },
          "metadata": {},
          "execution_count": 22
        }
      ],
      "source": [
        "2 * string1"
      ]
    },
    {
      "cell_type": "code",
      "source": [
        "2 ^ string1"
      ],
      "metadata": {
        "id": "ogJxVT8CV-fy",
        "outputId": "ff8c89b9-0d65-4857-c886-ef208108e03e",
        "colab": {
          "base_uri": "https://localhost:8080/",
          "height": 166
        }
      },
      "execution_count": 27,
      "outputs": [
        {
          "output_type": "error",
          "ename": "TypeError",
          "evalue": "ignored",
          "traceback": [
            "\u001b[0;31m---------------------------------------------------------------------------\u001b[0m",
            "\u001b[0;31mTypeError\u001b[0m                                 Traceback (most recent call last)",
            "\u001b[0;32m<ipython-input-27-1d93ee1b037c>\u001b[0m in \u001b[0;36m<module>\u001b[0;34m\u001b[0m\n\u001b[0;32m----> 1\u001b[0;31m \u001b[0;36m2\u001b[0m \u001b[0;34m^\u001b[0m \u001b[0mstring1\u001b[0m\u001b[0;34m\u001b[0m\u001b[0;34m\u001b[0m\u001b[0m\n\u001b[0m",
            "\u001b[0;31mTypeError\u001b[0m: unsupported operand type(s) for ^: 'int' and 'str'"
          ]
        }
      ]
    },
    {
      "cell_type": "code",
      "source": [
        "2 + string1"
      ],
      "metadata": {
        "id": "z7HArOJuWLO4"
      },
      "execution_count": null,
      "outputs": []
    },
    {
      "cell_type": "code",
      "source": [
        "2 - string1"
      ],
      "metadata": {
        "id": "o0FuSDfnWOAf"
      },
      "execution_count": null,
      "outputs": []
    },
    {
      "cell_type": "code",
      "source": [
        "2 % string1"
      ],
      "metadata": {
        "id": "VaM1mB17WQZ1"
      },
      "execution_count": null,
      "outputs": []
    },
    {
      "cell_type": "code",
      "source": [
        "2 ** string1"
      ],
      "metadata": {
        "id": "HPVdtm2xWSIr"
      },
      "execution_count": null,
      "outputs": []
    },
    {
      "cell_type": "markdown",
      "metadata": {
        "nbpresent": {
          "id": "451809fa-bae8-406f-8485-e14666da2f9c"
        },
        "id": "29-YyWt0Tc0b"
      },
      "source": [
        "## Boolean operations\n",
        "\n",
        "- **Boolean expressions** evaluate to True or False\n",
        "- **Boolean operations** answer Yes/No questions"
      ]
    },
    {
      "cell_type": "markdown",
      "metadata": {
        "nbpresent": {
          "id": "a7d93c7f-e613-436d-8ea2-f8eabf37aca1"
        },
        "id": "2GVte5UyTc0b"
      },
      "source": [
        "## Comparison operators"
      ]
    },
    {
      "cell_type": "code",
      "execution_count": 28,
      "metadata": {
        "nbpresent": {
          "id": "9ba65652-2b58-4adc-bb1b-ca556743e198"
        },
        "id": "nCYtEkHyTc0b",
        "outputId": "8542b4c9-ebeb-46d3-d2d8-852d93199c4f",
        "colab": {
          "base_uri": "https://localhost:8080/"
        }
      },
      "outputs": [
        {
          "output_type": "execute_result",
          "data": {
            "text/plain": [
              "(False, True, True, True)"
            ]
          },
          "metadata": {},
          "execution_count": 28
        }
      ],
      "source": [
        "(2 == 3, 2 < 3, 2 <= 3, 2 != 3)"
      ]
    },
    {
      "cell_type": "markdown",
      "metadata": {
        "nbpresent": {
          "id": "f2db4d92-a6dc-4ce4-973b-623addee60f5"
        },
        "id": "rtHli5_rTc0c"
      },
      "source": [
        "## Container operations"
      ]
    },
    {
      "cell_type": "code",
      "execution_count": null,
      "metadata": {
        "nbpresent": {
          "id": "cc07079e-46cf-4b24-8240-0c8f356cf384"
        },
        "id": "I4Eh8sjoTc0c",
        "outputId": "8bb20fe1-94f9-469d-f16a-45dfd61444aa"
      },
      "outputs": [
        {
          "data": {
            "text/plain": [
              "True"
            ]
          },
          "execution_count": 41,
          "metadata": {},
          "output_type": "execute_result"
        }
      ],
      "source": [
        "2 in [1,2,3]"
      ]
    },
    {
      "cell_type": "code",
      "execution_count": null,
      "metadata": {
        "nbpresent": {
          "id": "98dc4cf4-0de9-45ac-8056-a6bb98506321"
        },
        "id": "p8y45L1rTc0c",
        "outputId": "9eec2762-ec97-41e8-c5bd-a9358710ddc3"
      },
      "outputs": [
        {
          "data": {
            "text/plain": [
              "False"
            ]
          },
          "execution_count": 42,
          "metadata": {},
          "output_type": "execute_result"
        }
      ],
      "source": [
        "\"a\" in \"Todd\""
      ]
    },
    {
      "cell_type": "code",
      "execution_count": null,
      "metadata": {
        "nbpresent": {
          "id": "de82634e-c310-4316-8db0-1bef201414b6"
        },
        "id": "sdkeinSQTc0c",
        "outputId": "9c9a3f89-c987-4348-fa4f-095b4afaf92f"
      },
      "outputs": [
        {
          "data": {
            "text/plain": [
              "True"
            ]
          },
          "execution_count": 25,
          "metadata": {},
          "output_type": "execute_result"
        }
      ],
      "source": [
        "\"t\" not in \"Todd\""
      ]
    },
    {
      "cell_type": "code",
      "execution_count": null,
      "metadata": {
        "nbpresent": {
          "id": "b23fc6af-c8e8-4f21-bfc3-64448f3d209d"
        },
        "scrolled": true,
        "id": "SnjtjxL8Tc0c",
        "outputId": "bccdc597-950b-47e6-8e06-e54eb97ff962"
      },
      "outputs": [
        {
          "data": {
            "text/plain": [
              "False"
            ]
          },
          "execution_count": 26,
          "metadata": {},
          "output_type": "execute_result"
        }
      ],
      "source": [
        "2 in [1, [2, 3]]"
      ]
    },
    {
      "cell_type": "markdown",
      "metadata": {
        "nbpresent": {
          "id": "a9702cc1-1da0-4d6b-8198-835ac55fd9eb"
        },
        "id": "-LvJWn79Tc0c"
      },
      "source": [
        "### <font color=\"red\"> Exercise 1.3.4</font>\n",
        "\n",
        "Why does `2 in [1, [2, 3]]` to `False`?\n"
      ]
    },
    {
      "cell_type": "markdown",
      "metadata": {
        "id": "BlMX9UgjTc0c"
      },
      "source": [
        "This evaluates to false because the in statement only refers to the outside pairs of brackets meaning that the two numbers inside the inner pair of brackets are sort of masked thus returning false because it only reads the 1."
      ]
    },
    {
      "cell_type": "markdown",
      "metadata": {
        "nbpresent": {
          "id": "8fb5d98c-6b7c-4ffb-8c28-ac5f7a055f1a"
        },
        "id": "jIkm4Vi0Tc0c"
      },
      "source": [
        "## Combining boolean expressions\n",
        "\n",
        "- Use `and`, `or`, and `not`"
      ]
    },
    {
      "cell_type": "code",
      "execution_count": 29,
      "metadata": {
        "nbpresent": {
          "id": "5b47746d-6823-4b18-bd0a-e87df90e01e7"
        },
        "id": "1sqgu3NhTc0d",
        "outputId": "fe27c106-8237-4463-a4e5-0d01aeb6bfb9",
        "colab": {
          "base_uri": "https://localhost:8080/"
        }
      },
      "outputs": [
        {
          "output_type": "execute_result",
          "data": {
            "text/plain": [
              "False"
            ]
          },
          "metadata": {},
          "execution_count": 29
        }
      ],
      "source": [
        "x, name = 5, \"Todd\"\n",
        "x % 2 == 1 and \"a\" in \"Todd\""
      ]
    },
    {
      "cell_type": "code",
      "execution_count": 30,
      "metadata": {
        "nbpresent": {
          "id": "298c54dc-9124-4201-beef-67b6d98b4633"
        },
        "id": "AZZfm6kaTc0d",
        "outputId": "b1091722-5f2c-43b3-c3fd-f34d38c55786",
        "colab": {
          "base_uri": "https://localhost:8080/"
        }
      },
      "outputs": [
        {
          "output_type": "execute_result",
          "data": {
            "text/plain": [
              "True"
            ]
          },
          "metadata": {},
          "execution_count": 30
        }
      ],
      "source": [
        "x % 2 == 1 or \"a\" in \"Todd\""
      ]
    },
    {
      "cell_type": "code",
      "execution_count": null,
      "metadata": {
        "nbpresent": {
          "id": "ae43d805-5f59-4823-bbde-cb86bae63461"
        },
        "id": "HSn5GhE_Tc0d",
        "outputId": "19a107fc-e5c9-40c5-852c-fb58dafd7dbd"
      },
      "outputs": [
        {
          "data": {
            "text/plain": [
              "False"
            ]
          },
          "execution_count": 1,
          "metadata": {},
          "output_type": "execute_result"
        }
      ],
      "source": [
        "not 2 < 3"
      ]
    },
    {
      "cell_type": "markdown",
      "metadata": {
        "id": "wYpf9BgATc0d"
      },
      "source": [
        "## Conditional Expression\n",
        "\n",
        "* Syntax:"
      ]
    },
    {
      "cell_type": "code",
      "execution_count": null,
      "metadata": {
        "id": "Spgee75pTc0d"
      },
      "outputs": [],
      "source": [
        "true_val if boolean_condition else false_value"
      ]
    },
    {
      "cell_type": "code",
      "execution_count": null,
      "metadata": {
        "id": "AnCUqXVwTc0d",
        "outputId": "2b545334-4870-462f-d818-052dc1dbff0b"
      },
      "outputs": [
        {
          "data": {
            "text/plain": [
              "'No t'"
            ]
          },
          "execution_count": 2,
          "metadata": {},
          "output_type": "execute_result"
        }
      ],
      "source": [
        "\"Has t\" if \"t\" in \"Todd\" else \"No t\""
      ]
    },
    {
      "cell_type": "markdown",
      "metadata": {
        "id": "DJmM8E1cTc0d"
      },
      "source": [
        "## Evaluating the conditional expression\n",
        "\n",
        "<img src=\"https://github.com/ColeBerning35/module1_lectures/blob/main/img/cond_expr_1.png?raw=1\" width=400 />"
      ]
    },
    {
      "cell_type": "markdown",
      "metadata": {
        "nbpresent": {
          "id": "a9702cc1-1da0-4d6b-8198-835ac55fd9eb"
        },
        "id": "s5kLqxEDTc0d"
      },
      "source": [
        "### <font color=\"red\"> Exercise 1.3.5</font>\n",
        "\n",
        "Evaluate `\"Yes\" if (5 <= x < 10) and (x % 2 == 1) else \"No\"`\n",
        "\n",
        "1. By hand\n",
        "2. With Python\n"
      ]
    },
    {
      "cell_type": "markdown",
      "metadata": {
        "id": "VFZME2vwTc0d"
      },
      "source": [
        "1. Evaluate by hand: \n",
        "5 is less than or equal to 5 and less than 10 and\n",
        "5 % 2 == 1\n",
        "return True\n"
      ]
    },
    {
      "cell_type": "code",
      "source": [
        "x"
      ],
      "metadata": {
        "id": "6sZAjySTZBQm",
        "outputId": "1f3815af-1e84-4af4-f5de-7f10612119be",
        "colab": {
          "base_uri": "https://localhost:8080/"
        }
      },
      "execution_count": 32,
      "outputs": [
        {
          "output_type": "execute_result",
          "data": {
            "text/plain": [
              "5"
            ]
          },
          "metadata": {},
          "execution_count": 32
        }
      ]
    },
    {
      "cell_type": "code",
      "execution_count": 31,
      "metadata": {
        "id": "ztgEezlRTc0e",
        "outputId": "5093f7fc-5885-47c8-cfa6-1726a2ccbad2",
        "colab": {
          "base_uri": "https://localhost:8080/",
          "height": 35
        }
      },
      "outputs": [
        {
          "output_type": "execute_result",
          "data": {
            "text/plain": [
              "'Yes'"
            ],
            "application/vnd.google.colaboratory.intrinsic+json": {
              "type": "string"
            }
          },
          "metadata": {},
          "execution_count": 31
        }
      ],
      "source": [
        "# Evaluate with Python\n",
        "\"Yes\" if (5 <= x < 10) and (x % 2 == 1) else \"No\""
      ]
    }
  ],
  "metadata": {
    "anaconda-cloud": {},
    "celltoolbar": "Slideshow",
    "kernelspec": {
      "display_name": "Python 3",
      "language": "python",
      "name": "python3"
    },
    "language_info": {
      "codemirror_mode": {
        "name": "ipython",
        "version": 3
      },
      "file_extension": ".py",
      "mimetype": "text/x-python",
      "name": "python",
      "nbconvert_exporter": "python",
      "pygments_lexer": "ipython3",
      "version": "3.7.2"
    },
    "nbpresent": {
      "slides": {
        "d8cfa8b7-18e5-4d2f-8e92-8164c8bfad3b": {
          "id": "d8cfa8b7-18e5-4d2f-8e92-8164c8bfad3b",
          "prev": null,
          "regions": {
            "81231d63-4899-45f2-b382-fabf4f762896": {
              "attrs": {
                "height": 0.8,
                "width": 0.45,
                "x": 0.5,
                "y": 0.1
              },
              "id": "81231d63-4899-45f2-b382-fabf4f762896"
            },
            "b40d103d-8d7f-44de-8fca-19b2f9861cdd": {
              "attrs": {
                "height": 0.8,
                "width": 0.45,
                "x": 0.05,
                "y": 0.1
              },
              "id": "b40d103d-8d7f-44de-8fca-19b2f9861cdd"
            }
          }
        }
      },
      "themes": {}
    },
    "colab": {
      "provenance": [],
      "include_colab_link": true
    }
  },
  "nbformat": 4,
  "nbformat_minor": 0
}